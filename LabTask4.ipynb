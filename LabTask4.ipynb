{
  "nbformat": 4,
  "nbformat_minor": 0,
  "metadata": {
    "colab": {
      "provenance": [],
      "include_colab_link": true
    },
    "kernelspec": {
      "name": "python3",
      "display_name": "Python 3"
    },
    "language_info": {
      "name": "python"
    }
  },
  "cells": [
    {
      "cell_type": "markdown",
      "metadata": {
        "id": "view-in-github",
        "colab_type": "text"
      },
      "source": [
        "<a href=\"https://colab.research.google.com/github/T-biohazard/CSE366_AI_LABs/blob/main/LabTask4.ipynb\" target=\"_parent\"><img src=\"https://colab.research.google.com/assets/colab-badge.svg\" alt=\"Open In Colab\"/></a>"
      ]
    },
    {
      "cell_type": "markdown",
      "source": [
        "**DFS**"
      ],
      "metadata": {
        "id": "RoQC5Qb_glB3"
      }
    },
    {
      "cell_type": "code",
      "source": [
        "WHITE, GREY, BLACK = 0, 1, 2\n",
        "INF = float('inf')\n",
        "NIL = None\n",
        "\n",
        "class Graph:\n",
        "    def __init__(self, vertices):\n",
        "        self.V = vertices\n",
        "        self.adj = [[] for _ in range(vertices)]\n",
        "        self.color = [WHITE] * vertices\n",
        "        self.prev = [NIL] * vertices\n",
        "        self.d = [INF] * vertices\n",
        "        self.f = [INF] * vertices\n",
        "        self.time = 0\n",
        "\n",
        "    def addEdge(self, u, v):\n",
        "        self.adj[u].append(v)\n",
        "\n",
        "    def DFS(self, start, goal):\n",
        "        self.DFS_Visit(start, goal)\n",
        "\n",
        "    def DFS_Visit(self, u, goal):\n",
        "        self.color[u] = GREY\n",
        "        self.time += 1\n",
        "        self.d[u] = self.time\n",
        "\n",
        "        if u == goal:\n",
        "            self.print_path(u)\n",
        "            return\n",
        "\n",
        "        for v in self.adj[u]:\n",
        "            if self.color[v] == WHITE:\n",
        "                self.prev[v] = u\n",
        "                self.DFS_Visit(v, goal)\n",
        "\n",
        "        self.color[u] = BLACK\n",
        "        self.time += 1\n",
        "        self.f[u] = self.time\n",
        "\n",
        "    def print_path(self, u):\n",
        "        path = []\n",
        "        while u != NIL:\n",
        "            path.append(u)\n",
        "            u = self.prev[u]\n",
        "        print(f\"Path from start to goal: {' -> '.join(map(str, reversed(path)))}\")\n",
        "\n",
        "\n",
        "\n"
      ],
      "metadata": {
        "id": "G8SUD63QcQKP"
      },
      "execution_count": null,
      "outputs": []
    },
    {
      "cell_type": "code",
      "source": [
        "# Example usage:\n",
        "g = Graph(5)\n",
        "g.addEdge(0, 1)\n",
        "g.addEdge(0, 2)\n",
        "g.addEdge(1, 3)\n",
        "g.addEdge(2, 4)\n",
        "\n",
        "start_node = 0\n",
        "goal_node = 4\n",
        "g.DFS(start_node, goal_node)"
      ],
      "metadata": {
        "colab": {
          "base_uri": "https://localhost:8080/"
        },
        "id": "dSHhlaw2eg-6",
        "outputId": "f8844e7d-1562-4863-8ce2-2d3cba07e4ba"
      },
      "execution_count": null,
      "outputs": [
        {
          "output_type": "stream",
          "name": "stdout",
          "text": [
            "Path from start to goal: 0 -> 2 -> 4\n"
          ]
        }
      ]
    },
    {
      "cell_type": "code",
      "source": [
        "# Create a graph with 20 vertices\n",
        "g = Graph(20)\n",
        "\n",
        "# Add edges as per the graph structure\n",
        "g.addEdge(0, 1)\n",
        "g.addEdge(0, 5)\n",
        "g.addEdge(1, 2)\n",
        "g.addEdge(1, 6)\n",
        "g.addEdge(2, 3)\n",
        "g.addEdge(2, 7)\n",
        "g.addEdge(3, 4)\n",
        "g.addEdge(3, 8)\n",
        "g.addEdge(4, 9)\n",
        "g.addEdge(5, 10)\n",
        "g.addEdge(6, 11)\n",
        "g.addEdge(7, 12)\n",
        "g.addEdge(8, 13)\n",
        "g.addEdge(9, 14)\n",
        "g.addEdge(10, 15)\n",
        "g.addEdge(11, 16)\n",
        "g.addEdge(12, 17)\n",
        "g.addEdge(13, 18)\n",
        "g.addEdge(14, 19)\n",
        "\n",
        "start_node = 0\n",
        "goal_node = 14\n",
        "g.DFS(start_node, goal_node)"
      ],
      "metadata": {
        "colab": {
          "base_uri": "https://localhost:8080/"
        },
        "id": "z6Y2S47BeTem",
        "outputId": "56728848-9ca1-4440-ffdc-ead3482679e9"
      },
      "execution_count": null,
      "outputs": [
        {
          "output_type": "stream",
          "name": "stdout",
          "text": [
            "Path from start to goal: 0 -> 1 -> 2 -> 3 -> 4 -> 9 -> 14\n"
          ]
        }
      ]
    },
    {
      "cell_type": "markdown",
      "source": [
        "**Problem Statement:**\n",
        "You are a treasure hunter exploring a mysterious island. The island is represented as a grid, and each cell has a cost associated with it. Your goal is to find the path from the starting cell (S) to the treasure cell (G) with the minimum cumulative cost.\n",
        "\n",
        "**Lab Tasks:**\n",
        "1. Create a 10x10 grid representing the island.\n",
        "2. Randomly block some cells (representing obstacles or dangerous areas).\n",
        "3. Assign random costs to each cell (representing the difficulty of traversing that cell).\n",
        "4. Implement UCS to find the optimal path from S to G.\n",
        "5. Print the minimum cost path and the total explored nodes.\n",
        "\n",
        "**Constraints:**\n",
        "The start cell (S) is at position (0, 0).\n",
        "\n",
        "* The goal cell (G) is at position (9, 9).\n",
        "* Blocked cells are marked as ‘X’.\n",
        "* Costs are positive integers (randomly assigned).\n",
        "\n",
        "**Expected Output:**\n",
        "1. Minimum cost path from S to G.\n",
        "2. Total number of explored nodes during the search."
      ],
      "metadata": {
        "id": "5jWLvzX-f-N7"
      }
    },
    {
      "cell_type": "code",
      "source": [],
      "metadata": {
        "id": "wP1stmeQ0yHq"
      },
      "execution_count": null,
      "outputs": []
    }
  ]
}