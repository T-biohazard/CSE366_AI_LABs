{
  "nbformat": 4,
  "nbformat_minor": 0,
  "metadata": {
    "colab": {
      "provenance": [],
      "include_colab_link": true
    },
    "kernelspec": {
      "name": "python3",
      "display_name": "Python 3"
    },
    "language_info": {
      "name": "python"
    }
  },
  "cells": [
    {
      "cell_type": "markdown",
      "metadata": {
        "id": "view-in-github",
        "colab_type": "text"
      },
      "source": [
        "<a href=\"https://colab.research.google.com/github/T-biohazard/CSE366_AI_LABs/blob/main/LabTask4.ipynb\" target=\"_parent\"><img src=\"https://colab.research.google.com/assets/colab-badge.svg\" alt=\"Open In Colab\"/></a>"
      ]
    },
    {
      "cell_type": "markdown",
      "source": [
        "**DFS**"
      ],
      "metadata": {
        "id": "RoQC5Qb_glB3"
      }
    },
    {
      "cell_type": "code",
      "source": [
        "WHITE, GREY, BLACK = 0, 1, 2\n",
        "INF = float('inf')\n",
        "NIL = None\n",
        "\n",
        "class Graph:\n",
        "    def __init__(self, vertices):\n",
        "        self.V = vertices\n",
        "        self.adj = [[] for _ in range(vertices)]\n",
        "        self.color = [WHITE] * vertices\n",
        "        self.prev = [NIL] * vertices\n",
        "        self.d = [INF] * vertices\n",
        "        self.f = [INF] * vertices\n",
        "        self.time = 0\n",
        "\n",
        "    def addEdge(self, u, v):\n",
        "        self.adj[u].append(v)\n",
        "\n",
        "    def DFS(self, start, goal):\n",
        "        self.DFS_Visit(start, goal)\n",
        "\n",
        "    def DFS_Visit(self, u, goal):\n",
        "        self.color[u] = GREY\n",
        "        self.time += 1\n",
        "        self.d[u] = self.time\n",
        "\n",
        "        if u == goal:\n",
        "            self.print_path(u)\n",
        "            return\n",
        "\n",
        "        for v in self.adj[u]:\n",
        "            if self.color[v] == WHITE:\n",
        "                self.prev[v] = u\n",
        "                self.DFS_Visit(v, goal)\n",
        "\n",
        "        self.color[u] = BLACK\n",
        "        self.time += 1\n",
        "        self.f[u] = self.time\n",
        "\n",
        "    def print_path(self, u):\n",
        "        path = []\n",
        "        while u != NIL:\n",
        "            path.append(u)\n",
        "            u = self.prev[u]\n",
        "        print(f\"Path from start to goal: {' -> '.join(map(str, reversed(path)))}\")\n",
        "\n",
        "\n",
        "\n"
      ],
      "metadata": {
        "id": "G8SUD63QcQKP"
      },
      "execution_count": 8,
      "outputs": []
    },
    {
      "cell_type": "code",
      "source": [
        "# Example usage:\n",
        "g = Graph(5)\n",
        "g.addEdge(0, 1)\n",
        "g.addEdge(0, 2)\n",
        "g.addEdge(1, 3)\n",
        "g.addEdge(2, 4)\n",
        "\n",
        "start_node = 0\n",
        "goal_node = 4\n",
        "g.DFS(start_node, goal_node)"
      ],
      "metadata": {
        "colab": {
          "base_uri": "https://localhost:8080/"
        },
        "id": "dSHhlaw2eg-6",
        "outputId": "ace222ae-59b1-4478-f393-e05ce7de44c0"
      },
      "execution_count": 9,
      "outputs": [
        {
          "output_type": "stream",
          "name": "stdout",
          "text": [
            "Path from start to goal: 0 -> 2 -> 4\n"
          ]
        }
      ]
    },
    {
      "cell_type": "code",
      "source": [
        "# Create a graph with 20 vertices\n",
        "g = Graph(20)\n",
        "\n",
        "# Add edges as per the graph structure\n",
        "g.addEdge(0, 1)\n",
        "g.addEdge(0, 5)\n",
        "g.addEdge(1, 2)\n",
        "g.addEdge(1, 6)\n",
        "g.addEdge(2, 3)\n",
        "g.addEdge(2, 7)\n",
        "g.addEdge(3, 4)\n",
        "g.addEdge(3, 8)\n",
        "g.addEdge(4, 9)\n",
        "g.addEdge(5, 10)\n",
        "g.addEdge(6, 11)\n",
        "g.addEdge(7, 12)\n",
        "g.addEdge(8, 13)\n",
        "g.addEdge(9, 14)\n",
        "g.addEdge(10, 15)\n",
        "g.addEdge(11, 16)\n",
        "g.addEdge(12, 17)\n",
        "g.addEdge(13, 18)\n",
        "g.addEdge(14, 19)\n",
        "\n",
        "start_node = 0\n",
        "goal_node = 14\n",
        "g.DFS(start_node, goal_node)"
      ],
      "metadata": {
        "colab": {
          "base_uri": "https://localhost:8080/"
        },
        "id": "z6Y2S47BeTem",
        "outputId": "ea53cf26-7ff5-41db-cc11-ab33c9369f7b"
      },
      "execution_count": 10,
      "outputs": [
        {
          "output_type": "stream",
          "name": "stdout",
          "text": [
            "Path from start to goal: 0 -> 1 -> 2 -> 3 -> 4 -> 9 -> 14\n"
          ]
        }
      ]
    },
    {
      "cell_type": "markdown",
      "source": [
        "**Problem Statement:**\n",
        "You are a treasure hunter exploring a mysterious island. The island is represented as a grid, and each cell has a cost associated with it. Your goal is to find the path from the starting cell (S) to the treasure cell (G) with the minimum cumulative cost.\n",
        "\n",
        "**Lab Tasks:**\n",
        "1. Create a 10x10 grid representing the island.\n",
        "2. Randomly block some cells (representing obstacles or dangerous areas).\n",
        "3. Assign random costs to each cell (representing the difficulty of traversing that cell).\n",
        "4. Implement UCS to find the optimal path from S to G.\n",
        "5. Print the minimum cost path and the total explored nodes.\n",
        "\n",
        "**Constraints:**\n",
        "The start cell (S) is at position (0, 0).\n",
        "\n",
        "* The goal cell (G) is at position (9, 9).\n",
        "* Blocked cells are marked as ‘X’.\n",
        "* Costs are positive integers (randomly assigned).\n",
        "\n",
        "**Expected Output:**\n",
        "1. Minimum cost path from S to G.\n",
        "2. Total number of explored nodes during the search."
      ],
      "metadata": {
        "id": "5jWLvzX-f-N7"
      }
    },
    {
      "cell_type": "markdown",
      "source": [
        "#Solve->"
      ],
      "metadata": {
        "id": "zv_oCnLs85qN"
      }
    },
    {
      "cell_type": "code",
      "source": [
        "import random\n",
        "from queue import PriorityQueue\n",
        "\n",
        "# Define constants\n",
        "START = (0, 0)\n",
        "GOAL = (9, 9)\n",
        "BLOCKED = 'X'\n",
        "ROWS = 10\n",
        "COLS = 10\n",
        "directions = [(-1, 0), (1, 0), (0, -1), (0, 1)]\n",
        "\n",
        "# Define functions to generate grid, check valid cell, and get neighbors\n",
        "def generate_grid():\n",
        "    grid = [[random.randint(1, 10) for _ in range(COLS)] for _ in range(ROWS)]\n",
        "    grid[START[0]][START[1]] = 0\n",
        "    grid[GOAL[0]][GOAL[1]] = random.randint(1, 10)\n",
        "    generate_obstacles(grid)\n",
        "    return grid\n",
        "\n",
        "def generate_obstacles(grid):\n",
        "    for _ in range(20):  # Adjust number of obstacles as needed\n",
        "        row = random.randint(0, ROWS - 1)\n",
        "        col = random.randint(0, COLS - 1)\n",
        "        grid[row][col] = BLOCKED\n",
        "\n",
        "def is_valid_cell(cell):\n",
        "    row, col = cell\n",
        "    return 0 <= row < ROWS and 0 <= col < COLS and grid[row][col] != BLOCKED\n",
        "\n",
        "def get_neighbors(cell):\n",
        "    neighbors = []\n",
        "    for d in directions:\n",
        "        neighbor = (cell[0] + d[0], cell[1] + d[1])\n",
        "        if is_valid_cell(neighbor):\n",
        "            neighbors.append(neighbor)\n",
        "    return neighbors\n",
        "\n",
        "# Uniform Cost Search (UCS)\n",
        "def ucs(start, goal):\n",
        "    frontier = PriorityQueue()\n",
        "    frontier.put(start, 0)\n",
        "    came_from = {}\n",
        "    cost_so_far = {}\n",
        "    came_from[start] = None\n",
        "    cost_so_far[start] = 0\n",
        "    explored = set()\n",
        "\n",
        "    while not frontier.empty():\n",
        "        current_node = frontier.get()\n",
        "        explored.add(current_node)\n",
        "\n",
        "        if current_node == goal:\n",
        "            break\n",
        "\n",
        "        for neighbor in get_neighbors(current_node):\n",
        "            if grid[neighbor[0]][neighbor[1]] != BLOCKED:\n",
        "                new_cost = cost_so_far[current_node] + grid[neighbor[0]][neighbor[1]]\n",
        "                if neighbor not in cost_so_far or new_cost < cost_so_far[neighbor]:\n",
        "                    cost_so_far[neighbor] = new_cost\n",
        "                    priority = new_cost\n",
        "                    frontier.put(neighbor, priority)\n",
        "                    came_from[neighbor] = current_node\n",
        "\n",
        "    # Reconstruct path\n",
        "    path = []\n",
        "    node = goal\n",
        "    while node != start:\n",
        "        path.append(node)\n",
        "        node = came_from[node]\n",
        "    path.append(start)\n",
        "    path.reverse()\n",
        "\n",
        "    return path, explored\n",
        "\n",
        "# Generate and print the grid\n",
        "grid = generate_grid()\n",
        "print(\"Generated Grid:\")\n",
        "for row in grid:\n",
        "    print(' '.join([str(cell).rjust(2) for cell in row]))\n",
        "\n",
        "# Run UCS\n",
        "path, explored_nodes = ucs(START, GOAL)\n",
        "\n",
        "# Print minimum cost path and total explored nodes\n",
        "print(\"\\n1. Minimum cost path from S to G:\")\n",
        "for cell in path:\n",
        "    print(cell, end=\" -> \")\n",
        "print(\"Total Cost:\", sum(grid[cell[0]][cell[1]] for cell in path))\n",
        "\n",
        "print(\"\\n2. Total number of explored nodes during the search:\", len(explored_nodes))\n"
      ],
      "metadata": {
        "colab": {
          "base_uri": "https://localhost:8080/"
        },
        "id": "Wvc_gqBo8yS7",
        "outputId": "21bc4c3f-b8d2-4f02-8a45-1949560ca7d7"
      },
      "execution_count": 14,
      "outputs": [
        {
          "output_type": "stream",
          "name": "stdout",
          "text": [
            "Generated Grid:\n",
            " 0  7  2  5  X  7  6  2  2  6\n",
            " 9  5  5  4  6  X  1  7  1  7\n",
            " 9  7 10  X  8  9  X  8  X 10\n",
            " 7  7  4  9  X  8  X  3 10  2\n",
            " 9  2  3  5  2  7  X  5  4  1\n",
            "10  2  2  4  4  5  1 10  X  7\n",
            "10  8  4  X  1  6  5  6  4  X\n",
            " 5  6  X  9  6  3  4  3  X  7\n",
            " 9  9  X  6  X  5 10  8  X  2\n",
            " 8  X 10  6  X  6  X  8  6  3\n",
            "\n",
            "1. Minimum cost path from S to G:\n",
            "(0, 0) -> (0, 1) -> (1, 1) -> (2, 1) -> (3, 1) -> (4, 1) -> (5, 1) -> (5, 2) -> (5, 3) -> (5, 4) -> (6, 4) -> (6, 5) -> (7, 5) -> (7, 6) -> (7, 7) -> (8, 7) -> (9, 7) -> (9, 8) -> (9, 9) -> Total Cost: 82\n",
            "\n",
            "2. Total number of explored nodes during the search: 79\n"
          ]
        }
      ]
    }
  ]
}